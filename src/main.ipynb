{
  "nbformat": 4,
  "nbformat_minor": 0,
  "metadata": {
    "colab": {
      "provenance": [],
      "authorship_tag": "ABX9TyMiD33Ik1DBszHYmekkS1zf",
      "include_colab_link": true
    },
    "kernelspec": {
      "name": "python3",
      "display_name": "Python 3"
    },
    "language_info": {
      "name": "python"
    }
  },
  "cells": [
    {
      "cell_type": "markdown",
      "metadata": {
        "id": "view-in-github",
        "colab_type": "text"
      },
      "source": [
        "<a href=\"https://colab.research.google.com/github/pevu97/Housing-Price-Regression-NN/blob/main/src/main.ipynb\" target=\"_parent\"><img src=\"https://colab.research.google.com/assets/colab-badge.svg\" alt=\"Open In Colab\"/></a>"
      ]
    },
    {
      "cell_type": "code",
      "execution_count": 11,
      "metadata": {
        "id": "fXWSRdL_4nF5",
        "outputId": "7c3fd21c-b2fa-4217-e8aa-af7de58c4be8",
        "colab": {
          "base_uri": "https://localhost:8080/",
          "height": 523
        }
      },
      "outputs": [
        {
          "output_type": "stream",
          "name": "stdout",
          "text": [
            "Cloning into 'Housing-Price-Regression-NN'...\n",
            "remote: Enumerating objects: 110, done.\u001b[K\n",
            "remote: Counting objects: 100% (110/110), done.\u001b[K\n",
            "remote: Compressing objects: 100% (97/97), done.\u001b[K\n",
            "remote: Total 110 (delta 38), reused 0 (delta 0), pack-reused 0 (from 0)\u001b[K\n",
            "Receiving objects: 100% (110/110), 776.42 KiB | 2.83 MiB/s, done.\n",
            "Resolving deltas: 100% (38/38), done.\n",
            "/content/Housing-Price-Regression-NN/Housing-Price-Regression-NN/Housing-Price-Regression-NN/Housing-Price-Regression-NN\n"
          ]
        },
        {
          "output_type": "error",
          "ename": "ModuleNotFoundError",
          "evalue": "No module named 'divide_dataset'",
          "traceback": [
            "\u001b[0;31m---------------------------------------------------------------------------\u001b[0m",
            "\u001b[0;31mModuleNotFoundError\u001b[0m                       Traceback (most recent call last)",
            "\u001b[0;32m<ipython-input-11-a346f5c501e4>\u001b[0m in \u001b[0;36m<cell line: 0>\u001b[0;34m()\u001b[0m\n\u001b[1;32m     21\u001b[0m \u001b[0;31m├\u001b[0m\u001b[0;31m─\u001b[0m\u001b[0;31m─\u001b[0m \u001b[0mdata_division\u001b[0m\u001b[0;34m.\u001b[0m\u001b[0mpy\u001b[0m\u001b[0;34m\u001b[0m\u001b[0;34m\u001b[0m\u001b[0m\n\u001b[1;32m     22\u001b[0m \"\"\"\n\u001b[0;32m---> 23\u001b[0;31m \u001b[0;32mfrom\u001b[0m \u001b[0mdivide_dataset\u001b[0m \u001b[0;32mimport\u001b[0m \u001b[0mdata_division\u001b[0m\u001b[0;34m\u001b[0m\u001b[0;34m\u001b[0m\u001b[0m\n\u001b[0m\u001b[1;32m     24\u001b[0m \u001b[0;34m\u001b[0m\u001b[0m\n\u001b[1;32m     25\u001b[0m \u001b[0;34m\u001b[0m\u001b[0m\n",
            "\u001b[0;31mModuleNotFoundError\u001b[0m: No module named 'divide_dataset'",
            "",
            "\u001b[0;31m---------------------------------------------------------------------------\u001b[0;32m\nNOTE: If your import is failing due to a missing package, you can\nmanually install dependencies using either !pip or !apt.\n\nTo view examples of installing some common dependencies, click the\n\"Open Examples\" button below.\n\u001b[0;31m---------------------------------------------------------------------------\u001b[0m\n"
          ],
          "errorDetails": {
            "actions": [
              {
                "action": "open_url",
                "actionText": "Open Examples",
                "url": "/notebooks/snippets/importing_libraries.ipynb"
              }
            ]
          }
        }
      ],
      "source": [
        "import numpy as np\n",
        "import pandas as pd\n",
        "import matplotlib.pyplot as plt\n",
        "import seaborn as sns\n",
        "import plotly.express as px\n",
        "import plotly.graph_objects as go\n",
        "\n",
        "import tensorflow as tf\n",
        "from tensorflow.keras.models import Sequential\n",
        "from tensorflow.keras.layers import Dense, Dropout\n",
        "from tensorflow.keras.callbacks import EarlyStopping\n",
        "\n",
        "!git clone https://github.com/pevu97/Housing-Price-Regression-NN.git\n",
        "%cd Housing-Price-Regression-NN\n",
        "raw_dataset = pd.read_csv('data/housing.csv')\n",
        "\n",
        "import sys\n",
        "sys.path.append('src')\n",
        "\n",
        "\"\"\" src/\n",
        "├── data_division.py\n",
        "\"\"\"\n",
        "from divide_dataset import data_division\n",
        "\n",
        "\n",
        "\n",
        "\n",
        "np.set_printoptions(precision=3, suppress=True, linewidth=150)\n",
        "pd.options.display.float_format = '{:.6f}'.format\n",
        "tf.__version__"
      ]
    },
    {
      "cell_type": "code",
      "source": [
        "!git clone https://github.com/pevu97/Housing-Price-Regression-NN.git\n",
        "%cd Housing-Price-Regression-NN\n",
        "\n",
        "import sys\n",
        "sys.path.append('src')\n",
        "\n",
        "from divide_dataset import data_division  # ✅ to wystarczy\n",
        "\n",
        "# i teraz możesz działać z data_division()\n",
        "\n",
        "import numpy as np\n",
        "import pandas as pd\n",
        "import tensorflow as tf\n",
        "\n",
        "raw_dataset = pd.read_csv('data/housing.csv')\n"
      ],
      "metadata": {
        "id": "3rbV8zDM5Bpn",
        "outputId": "5fb18350-4655-44b2-fd4d-15acbcfbc545",
        "colab": {
          "base_uri": "https://localhost:8080/",
          "height": 523
        }
      },
      "execution_count": 12,
      "outputs": [
        {
          "output_type": "stream",
          "name": "stdout",
          "text": [
            "Cloning into 'Housing-Price-Regression-NN'...\n",
            "remote: Enumerating objects: 110, done.\u001b[K\n",
            "remote: Counting objects: 100% (110/110), done.\u001b[K\n",
            "remote: Compressing objects: 100% (97/97), done.\u001b[K\n",
            "remote: Total 110 (delta 38), reused 0 (delta 0), pack-reused 0 (from 0)\u001b[K\n",
            "Receiving objects: 100% (110/110), 776.42 KiB | 2.94 MiB/s, done.\n",
            "Resolving deltas: 100% (38/38), done.\n",
            "/content/Housing-Price-Regression-NN/Housing-Price-Regression-NN/Housing-Price-Regression-NN/Housing-Price-Regression-NN/Housing-Price-Regression-NN\n"
          ]
        },
        {
          "output_type": "error",
          "ename": "ModuleNotFoundError",
          "evalue": "No module named 'divide_dataset'",
          "traceback": [
            "\u001b[0;31m---------------------------------------------------------------------------\u001b[0m",
            "\u001b[0;31mModuleNotFoundError\u001b[0m                       Traceback (most recent call last)",
            "\u001b[0;32m<ipython-input-12-d18d2ff391d2>\u001b[0m in \u001b[0;36m<cell line: 0>\u001b[0;34m()\u001b[0m\n\u001b[1;32m      5\u001b[0m \u001b[0msys\u001b[0m\u001b[0;34m.\u001b[0m\u001b[0mpath\u001b[0m\u001b[0;34m.\u001b[0m\u001b[0mappend\u001b[0m\u001b[0;34m(\u001b[0m\u001b[0;34m'src'\u001b[0m\u001b[0;34m)\u001b[0m\u001b[0;34m\u001b[0m\u001b[0;34m\u001b[0m\u001b[0m\n\u001b[1;32m      6\u001b[0m \u001b[0;34m\u001b[0m\u001b[0m\n\u001b[0;32m----> 7\u001b[0;31m \u001b[0;32mfrom\u001b[0m \u001b[0mdivide_dataset\u001b[0m \u001b[0;32mimport\u001b[0m \u001b[0mdata_division\u001b[0m  \u001b[0;31m# ✅ to wystarczy\u001b[0m\u001b[0;34m\u001b[0m\u001b[0;34m\u001b[0m\u001b[0m\n\u001b[0m\u001b[1;32m      8\u001b[0m \u001b[0;34m\u001b[0m\u001b[0m\n\u001b[1;32m      9\u001b[0m \u001b[0;31m# i teraz możesz działać z data_division()\u001b[0m\u001b[0;34m\u001b[0m\u001b[0;34m\u001b[0m\u001b[0m\n",
            "\u001b[0;31mModuleNotFoundError\u001b[0m: No module named 'divide_dataset'",
            "",
            "\u001b[0;31m---------------------------------------------------------------------------\u001b[0;32m\nNOTE: If your import is failing due to a missing package, you can\nmanually install dependencies using either !pip or !apt.\n\nTo view examples of installing some common dependencies, click the\n\"Open Examples\" button below.\n\u001b[0;31m---------------------------------------------------------------------------\u001b[0m\n"
          ],
          "errorDetails": {
            "actions": [
              {
                "action": "open_url",
                "actionText": "Open Examples",
                "url": "/notebooks/snippets/importing_libraries.ipynb"
              }
            ]
          }
        }
      ]
    },
    {
      "cell_type": "code",
      "source": [
        "%cd /content/Housing-Price-Regression-NN\n"
      ],
      "metadata": {
        "id": "mwJsgzwF72Ey",
        "outputId": "2b200017-de7c-4e71-cefa-1cc246cfe118",
        "colab": {
          "base_uri": "https://localhost:8080/"
        }
      },
      "execution_count": 13,
      "outputs": [
        {
          "output_type": "stream",
          "name": "stdout",
          "text": [
            "/content/Housing-Price-Regression-NN\n"
          ]
        }
      ]
    },
    {
      "cell_type": "code",
      "source": [
        "!ls src\n"
      ],
      "metadata": {
        "id": "gZA_FBoD77pZ",
        "outputId": "df915588-12f2-43c6-9a0b-3e914c1ccfd4",
        "colab": {
          "base_uri": "https://localhost:8080/"
        }
      },
      "execution_count": 14,
      "outputs": [
        {
          "output_type": "stream",
          "name": "stdout",
          "text": [
            "divide_dataset.py  main.ipynb  model_construction.py  predictions.py\n"
          ]
        }
      ]
    },
    {
      "cell_type": "code",
      "source": [
        "import sys\n",
        "sys.path.append('src')\n"
      ],
      "metadata": {
        "id": "sgle7TR778lq"
      },
      "execution_count": 15,
      "outputs": []
    },
    {
      "cell_type": "code",
      "source": [
        "print(sys.path)\n"
      ],
      "metadata": {
        "id": "YmPsRTfm7_1h",
        "outputId": "872ac145-e476-454b-95a9-ddb43337aad1",
        "colab": {
          "base_uri": "https://localhost:8080/"
        }
      },
      "execution_count": 16,
      "outputs": [
        {
          "output_type": "stream",
          "name": "stdout",
          "text": [
            "['/content', '/env/python', '/usr/lib/python311.zip', '/usr/lib/python3.11', '/usr/lib/python3.11/lib-dynload', '', '/usr/local/lib/python3.11/dist-packages', '/usr/lib/python3/dist-packages', '/usr/local/lib/python3.11/dist-packages/IPython/extensions', '/root/.ipython', '/usr/local/lib/python3.11/dist-packages/setuptools/_vendor', 'src', 'src', 'src', 'src', 'src', 'src']\n"
          ]
        }
      ]
    },
    {
      "cell_type": "code",
      "source": [
        "import divide_dataset\n"
      ],
      "metadata": {
        "id": "y4bWUvyc8A0Y",
        "outputId": "8376ac59-2276-44fe-b7f1-622424fb8cb0",
        "colab": {
          "base_uri": "https://localhost:8080/",
          "height": 315
        }
      },
      "execution_count": 18,
      "outputs": [
        {
          "output_type": "error",
          "ename": "ModuleNotFoundError",
          "evalue": "No module named 'divide_dataset'",
          "traceback": [
            "\u001b[0;31m---------------------------------------------------------------------------\u001b[0m",
            "\u001b[0;31mModuleNotFoundError\u001b[0m                       Traceback (most recent call last)",
            "\u001b[0;32m<ipython-input-18-ece61f0657f4>\u001b[0m in \u001b[0;36m<cell line: 0>\u001b[0;34m()\u001b[0m\n\u001b[0;32m----> 1\u001b[0;31m \u001b[0;32mimport\u001b[0m \u001b[0mdivide_dataset\u001b[0m\u001b[0;34m\u001b[0m\u001b[0;34m\u001b[0m\u001b[0m\n\u001b[0m",
            "\u001b[0;31mModuleNotFoundError\u001b[0m: No module named 'divide_dataset'",
            "",
            "\u001b[0;31m---------------------------------------------------------------------------\u001b[0;32m\nNOTE: If your import is failing due to a missing package, you can\nmanually install dependencies using either !pip or !apt.\n\nTo view examples of installing some common dependencies, click the\n\"Open Examples\" button below.\n\u001b[0;31m---------------------------------------------------------------------------\u001b[0m\n"
          ],
          "errorDetails": {
            "actions": [
              {
                "action": "open_url",
                "actionText": "Open Examples",
                "url": "/notebooks/snippets/importing_libraries.ipynb"
              }
            ]
          }
        }
      ]
    },
    {
      "cell_type": "code",
      "source": [
        "!pwd\n"
      ],
      "metadata": {
        "id": "tGViRXdJ8Eqh",
        "outputId": "10defba6-40c5-464e-8f76-7323a9c9f23c",
        "colab": {
          "base_uri": "https://localhost:8080/"
        }
      },
      "execution_count": 19,
      "outputs": [
        {
          "output_type": "stream",
          "name": "stdout",
          "text": [
            "/content/Housing-Price-Regression-NN\n"
          ]
        }
      ]
    },
    {
      "cell_type": "code",
      "source": [
        "from divide_dataset import data_clean"
      ],
      "metadata": {
        "id": "uUDyPbYG8POA",
        "outputId": "18aea579-4c8b-43e1-be96-e8dfbfbcf387",
        "colab": {
          "base_uri": "https://localhost:8080/",
          "height": 315
        }
      },
      "execution_count": 22,
      "outputs": [
        {
          "output_type": "error",
          "ename": "ModuleNotFoundError",
          "evalue": "No module named 'divide_dataset'",
          "traceback": [
            "\u001b[0;31m---------------------------------------------------------------------------\u001b[0m",
            "\u001b[0;31mModuleNotFoundError\u001b[0m                       Traceback (most recent call last)",
            "\u001b[0;32m<ipython-input-22-daa227d6a66d>\u001b[0m in \u001b[0;36m<cell line: 0>\u001b[0;34m()\u001b[0m\n\u001b[0;32m----> 1\u001b[0;31m \u001b[0;32mfrom\u001b[0m \u001b[0mdivide_dataset\u001b[0m \u001b[0;32mimport\u001b[0m \u001b[0mdata_clean\u001b[0m\u001b[0;34m\u001b[0m\u001b[0;34m\u001b[0m\u001b[0m\n\u001b[0m",
            "\u001b[0;31mModuleNotFoundError\u001b[0m: No module named 'divide_dataset'",
            "",
            "\u001b[0;31m---------------------------------------------------------------------------\u001b[0;32m\nNOTE: If your import is failing due to a missing package, you can\nmanually install dependencies using either !pip or !apt.\n\nTo view examples of installing some common dependencies, click the\n\"Open Examples\" button below.\n\u001b[0;31m---------------------------------------------------------------------------\u001b[0m\n"
          ],
          "errorDetails": {
            "actions": [
              {
                "action": "open_url",
                "actionText": "Open Examples",
                "url": "/notebooks/snippets/importing_libraries.ipynb"
              }
            ]
          }
        }
      ]
    },
    {
      "cell_type": "code",
      "source": [
        "!cat src/divide_dataset.py\n"
      ],
      "metadata": {
        "id": "45iayexO8YNZ",
        "outputId": "001a52ac-60b9-47b1-94fa-4b26eb8d9820",
        "colab": {
          "base_uri": "https://localhost:8080/"
        }
      },
      "execution_count": 23,
      "outputs": [
        {
          "output_type": "stream",
          "name": "stdout",
          "text": [
            "def data_clean():\n",
            "  dataset = raw_dataset.copy()\n",
            "  dataset.dropna(inplace=True)\n",
            "  index_to_drop = dataset[dataset['median_house_value'] == 500001]\n",
            "  dataset = dataset.drop(index=index_to_drop.index)\n",
            "  return dataset_dummies = pd.get_dummies(dataset, drop_first=True)\n",
            "\n",
            "def data_division():\n",
            "  train_dataset = dataset_dummies.sample(frac=0.8, random_state=0)\n",
            "  test_dataset = dataset_dummies.drop(train_dataset.index)\n",
            "  train_labels = train_dataset.pop('median_house_value')\n",
            "  test_labels = test_dataset.pop('median_house_value')\n",
            "\n",
            "  from sklearn.preprocessing import StandardScaler\n",
            "\n",
            "  scaler = StandardScaler()\n",
            "  train_dataset_scaled = pd.DataFrame(data = scaler.fit_transform(train_dataset), columns=train_dataset.columns)\n",
            "  test_dataset_scaled = pd.DataFrame(data = scaler.transform(test_dataset), columns=test_dataset.columns)\n",
            "\n",
            "  return train_dataset_scaled, train_labels, test_dataset_scaled, test_labels\n",
            "  \n",
            "\n",
            "  \n"
          ]
        }
      ]
    },
    {
      "cell_type": "code",
      "source": [],
      "metadata": {
        "id": "dNy5dr1z8hZ4"
      },
      "execution_count": null,
      "outputs": []
    }
  ]
}